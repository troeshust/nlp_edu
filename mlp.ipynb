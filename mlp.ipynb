{
 "cells": [
  {
   "cell_type": "code",
   "execution_count": 1,
   "id": "0fcc8ddb-a09a-4aee-b1d0-e30c2efbae50",
   "metadata": {},
   "outputs": [],
   "source": [
    "import string\n",
    "import random\n",
    "\n",
    "import torch\n",
    "from torch import nn\n",
    "import torch.nn.functional as F\n",
    "from tqdm import tqdm\n",
    "import matplotlib.pyplot as plt"
   ]
  },
  {
   "cell_type": "code",
   "execution_count": 2,
   "id": "41f13bc9-d8f8-471c-9194-b1febd30f72b",
   "metadata": {},
   "outputs": [],
   "source": [
    "%matplotlib inline\n",
    "\n",
    "# consts\n",
    "DATASET_FILENAME = 'names.txt'\n",
    "RANDOM_SEED = 42\n",
    "\n",
    "# config\n",
    "NGRAM_SIZE = 3\n",
    "BATCH_SIZE = 128\n",
    "EMBEDDING_DIM = 10\n",
    "HIDDEN_LAYER_SIZE = 100\n",
    "\n",
    "TRAIN_SIZE = 0.8\n",
    "VAL_SIZE = 0.1\n",
    "TEST_SIZE = 0.1\n",
    "\n",
    "assert TRAIN_SIZE + VAL_SIZE + TEST_SIZE == 1\n",
    "\n",
    "random.seed(RANDOM_SEED)"
   ]
  },
  {
   "cell_type": "code",
   "execution_count": 3,
   "id": "635feb62-46cb-4648-8c84-8fcf882f4eea",
   "metadata": {},
   "outputs": [],
   "source": [
    "def read_names():\n",
    "    with open(DATASET_FILENAME, 'r') as f:\n",
    "        names = f.read()\n",
    "    return names.split()"
   ]
  },
  {
   "cell_type": "code",
   "execution_count": 4,
   "id": "fdd90914-8f4d-41dd-a260-93935740597a",
   "metadata": {},
   "outputs": [],
   "source": [
    "names = read_names()\n",
    "letters = ['.'] + list(string.ascii_lowercase)\n",
    "letter_to_idx = {letter: idx for idx, letter in enumerate(letters)}\n",
    "idx_to_letter = {idx: letter for idx, letter in enumerate(letters)}"
   ]
  },
  {
   "cell_type": "code",
   "execution_count": 5,
   "id": "b196d8ff-4e9f-4d9a-8df3-ff3928d78e10",
   "metadata": {},
   "outputs": [],
   "source": [
    "def build_dataset(names):\n",
    "    dataset_x = []\n",
    "    dataset_y = []\n",
    "    for name in names:\n",
    "        cur_context = '...'\n",
    "        for cur_ans_char in name + '.':\n",
    "            # print(f'{cur_context} -> {cur_ans_char}')\n",
    "    \n",
    "            cur_x = [letter_to_idx[letter] for letter in cur_context]\n",
    "            cur_y = letter_to_idx[cur_ans_char]\n",
    "    \n",
    "            dataset_x.append(cur_x)\n",
    "            dataset_y.append(cur_y)\n",
    "            \n",
    "            cur_context = cur_context[1:] + cur_ans_char\n",
    "    return dataset_x, dataset_y\n",
    "\n",
    "\n",
    "def split_dataset(names):\n",
    "    random.shuffle(names)\n",
    "    \n",
    "    val_start_idx = int(len(names) * TRAIN_SIZE)\n",
    "    test_start_idx = int(val_start_idx + len(names) * VAL_SIZE)\n",
    "    \n",
    "    names_train = names[:val_start_idx]\n",
    "    names_val = names[val_start_idx:test_start_idx]\n",
    "    names_test = names[test_start_idx:]\n",
    "    \n",
    "    dataset_train_x, dataset_train_y = build_dataset(names_train)\n",
    "    dataset_val_x, dataset_val_y = build_dataset(names_val)\n",
    "    dataset_test_x, dataset_test_y = build_dataset(names_test)\n",
    "    return map(torch.tensor, (dataset_train_x, dataset_train_y, dataset_val_x, dataset_val_y, dataset_test_x, dataset_test_y))"
   ]
  },
  {
   "cell_type": "code",
   "execution_count": 6,
   "id": "138bb774-7c9d-4237-b52b-36c9d543dcd0",
   "metadata": {},
   "outputs": [],
   "source": [
    "dataset_train_x, dataset_train_y, dataset_val_x, dataset_val_y, dataset_test_x, dataset_test_y = split_dataset(names)"
   ]
  },
  {
   "cell_type": "code",
   "execution_count": 7,
   "id": "9928eb8e-6d90-4e28-bd38-524636c31249",
   "metadata": {},
   "outputs": [],
   "source": [
    "def get_batch():\n",
    "    batch_idxs = torch.randint(0, len(dataset_train_x), (BATCH_SIZE,))\n",
    "    x = dataset_train_x[batch_idxs]\n",
    "    y = dataset_train_y[batch_idxs]\n",
    "    return x, y"
   ]
  },
  {
   "cell_type": "code",
   "execution_count": 8,
   "id": "3e7333e6-5757-42b8-b66e-99eb9206478b",
   "metadata": {},
   "outputs": [],
   "source": [
    "class MLP(nn.Module):\n",
    "    def __init__(self):\n",
    "        super().__init__()\n",
    "        self.emb = nn.Embedding(len(letter_to_idx), EMBEDDING_DIM)\n",
    "        self.fc1 = nn.Linear(NGRAM_SIZE * EMBEDDING_DIM, HIDDEN_LAYER_SIZE)\n",
    "        self.fc2 = nn.Linear(HIDDEN_LAYER_SIZE, len(letter_to_idx))\n",
    "    \n",
    "    def forward(self, x):\n",
    "        # x: (BATBATCH_SIZE * NGRANGRAM_SIZE * EMBEDDING_LEN)\n",
    "        x = self.emb(x)\n",
    "        x = x.view(x.shape[0], -1)\n",
    "        \n",
    "        x = self.fc1(x)\n",
    "        x = torch.tanh(x)\n",
    "\n",
    "        x = self.fc2(x)\n",
    "        return x"
   ]
  },
  {
   "cell_type": "code",
   "execution_count": 9,
   "id": "efd7cf90-1884-4f6e-b25f-38057406b1af",
   "metadata": {},
   "outputs": [],
   "source": [
    "model = MLP()"
   ]
  },
  {
   "cell_type": "code",
   "execution_count": 10,
   "id": "da63dabe-0c61-49a0-a289-7bd134c68e70",
   "metadata": {},
   "outputs": [],
   "source": [
    "iter_history = []\n",
    "loss_history = []"
   ]
  },
  {
   "cell_type": "code",
   "execution_count": 16,
   "id": "4ebd882c-1859-4eb1-918d-124b11d4ceaf",
   "metadata": {},
   "outputs": [],
   "source": [
    "def train(iters=10000):\n",
    "    for iter_num in tqdm(range(iters)):\n",
    "        x, y = get_batch()\n",
    "        logits = model(x)\n",
    "        loss = F.cross_entropy(logits, y)\n",
    "    \n",
    "        iter_history.append(iter_num)\n",
    "        loss_history.append(loss.item())\n",
    "    \n",
    "        for p in model.parameters():\n",
    "            p.grad = None\n",
    "        loss.backward()\n",
    "        \n",
    "        lr = 0.01\n",
    "        for p in model.parameters():\n",
    "            p.data -= lr * p.grad"
   ]
  },
  {
   "cell_type": "code",
   "execution_count": 17,
   "id": "f60267bc-fae1-4a71-80ee-0accf94dba32",
   "metadata": {},
   "outputs": [
    {
     "name": "stderr",
     "output_type": "stream",
     "text": [
      "100%|███████████████████████████████████████████████████████████████████████████████████████████████████████████████████████████████████████████████████████████████████████████████████████████████████| 10000/10000 [00:19<00:00, 500.91it/s]\n"
     ]
    }
   ],
   "source": [
    "train()"
   ]
  },
  {
   "cell_type": "code",
   "execution_count": 18,
   "id": "b79ea6d9-0257-4d99-b35d-e07478d11120",
   "metadata": {},
   "outputs": [
    {
     "data": {
      "text/plain": [
       "[<matplotlib.lines.Line2D at 0x1d685cfab40>]"
      ]
     },
     "execution_count": 18,
     "metadata": {},
     "output_type": "execute_result"
    },
    {
     "data": {
      "image/png": "[encoded data removed]",
      "text/plain": [
       "<Figure size 640x480 with 1 Axes>"
      ]
     },
     "metadata": {},
     "output_type": "display_data"
    }
   ],
   "source": [
    "plt.plot(iter_history, loss_history)"
   ]
  },
  {
   "cell_type": "code",
   "execution_count": 14,
   "id": "a4f3bad8-7cf0-4c5e-8e13-6d9380539f92",
   "metadata": {},
   "outputs": [],
   "source": [
    "def compute_val_loss():\n",
    "    logits = model(dataset_val_x)\n",
    "    loss = F.cross_entropy(logits, dataset_val_y)\n",
    "    return loss"
   ]
  },
  {
   "cell_type": "code",
   "execution_count": 15,
   "id": "850a77f2-047e-40f1-8e3c-34fa53a76a6a",
   "metadata": {},
   "outputs": [
    {
     "data": {
      "text/plain": [
       "tensor(2.1795, grad_fn=<NllLossBackward0>)"
      ]
     },
     "execution_count": 15,
     "metadata": {},
     "output_type": "execute_result"
    }
   ],
   "source": [
    "compute_val_loss()"
   ]
  },
  {
   "cell_type": "code",
   "execution_count": 19,
   "id": "170efa41-11e5-4cee-a07a-e12394da375c",
   "metadata": {},
   "outputs": [
    {
     "data": {
      "text/plain": [
       "tensor(2.1592, grad_fn=<NllLossBackward0>)"
      ]
     },
     "execution_count": 19,
     "metadata": {},
     "output_type": "execute_result"
    }
   ],
   "source": [
    "compute_val_loss()"
   ]
  },
  {
   "cell_type": "code",
   "execution_count": 31,
   "id": "18817583-3323-4e4e-ab85-8e22fe8cd9c1",
   "metadata": {},
   "outputs": [],
   "source": [
    "def generate_names(num=10):\n",
    "    for _ in range(num):\n",
    "        context = '...'\n",
    "        name = []\n",
    "        while True:\n",
    "            x = torch.tensor([[letter_to_idx[c] for c in context]])\n",
    "            logits = model(x)\n",
    "            probs = F.softmax(logits, dim=1)\n",
    "            ans_chr_idx = torch.multinomial(probs, num_samples=1).item()\n",
    "            ans_chr = idx_to_letter[ans_chr_idx]\n",
    "            if ans_chr == '.':\n",
    "                print(''.join(name))\n",
    "                break\n",
    "            name.append(ans_chr)\n",
    "            context = context[1:] + ans_chr"
   ]
  },
  {
   "cell_type": "code",
   "execution_count": 34,
   "id": "ef9d65ef-f0b2-4180-969f-d62868307a89",
   "metadata": {},
   "outputs": [
    {
     "name": "stdout",
     "output_type": "stream",
     "text": [
      "dae\n",
      "makiyamelynn\n",
      "lee\n",
      "aina\n",
      "ref\n",
      "lina\n",
      "gize\n",
      "kaylena\n",
      "alet\n",
      "darianek\n"
     ]
    }
   ],
   "source": [
    "generate_names()"
   ]
  },
  {
   "cell_type": "code",
   "execution_count": null,
   "id": "7764df28-f5a8-46fa-86eb-308645f3591b",
   "metadata": {},
   "outputs": [],
   "source": []
  },
  {
   "cell_type": "code",
   "execution_count": null,
   "id": "3ee1db34-03a8-46aa-9290-5d63b22dcc0f",
   "metadata": {},
   "outputs": [],
   "source": []
  },
  {
   "cell_type": "code",
   "execution_count": null,
   "id": "522e6fef-88ff-4f60-8b13-8b6f03f4a55d",
   "metadata": {},
   "outputs": [],
   "source": []
  },
  {
   "cell_type": "markdown",
   "id": "cea97b3d-f850-4baa-92a5-0b9b2529189e",
   "metadata": {},
   "source": [
    "# Debug / dev section"
   ]
  },
  {
   "cell_type": "code",
   "execution_count": null,
   "id": "2e5f7376-0545-455c-bcfb-8a5c26623c71",
   "metadata": {},
   "outputs": [],
   "source": [
    "for _x, _y in zip(x, y):\n",
    "    context = []\n",
    "    for idx in _x:\n",
    "        context.append(idx_to_letter[idx.item()])\n",
    "    print(f'{''.join(context)} -> {idx_to_letter[_y.item()]}')"
   ]
  },
  {
   "cell_type": "code",
   "execution_count": 99,
   "id": "8f5946c5-180a-4858-94c5-b37d9fc61e40",
   "metadata": {},
   "outputs": [],
   "source": [
    "e = nn.Embedding(len(letter_to_idx), EMBEDDING_DIM)"
   ]
  },
  {
   "cell_type": "code",
   "execution_count": 100,
   "id": "a279b8fd-c5ff-426b-a9d5-0c503c06add4",
   "metadata": {},
   "outputs": [],
   "source": [
    "x = e(x)"
   ]
  },
  {
   "cell_type": "code",
   "execution_count": 101,
   "id": "ffc6ba73-c5ea-42c0-bc85-9f8ab9fff2cc",
   "metadata": {},
   "outputs": [
    {
     "data": {
      "text/plain": [
       "tensor([[[-0.2065, -0.7045],\n",
       "         [-0.2065, -0.7045],\n",
       "         [-0.5793,  1.3076]],\n",
       "\n",
       "        [[-0.3547,  0.0642],\n",
       "         [-1.2751,  0.7274],\n",
       "         [-0.3547,  0.0642]],\n",
       "\n",
       "        [[-0.2065, -0.7045],\n",
       "         [-0.2065, -0.7045],\n",
       "         [-0.5793,  1.3076]],\n",
       "\n",
       "        [[-0.2065, -0.7045],\n",
       "         [-0.2065, -0.7045],\n",
       "         [-0.6918, -0.4708]],\n",
       "\n",
       "        [[-0.2065, -0.7045],\n",
       "         [-0.2065, -0.7045],\n",
       "         [-0.2065, -0.7045]]], grad_fn=<EmbeddingBackward0>)"
      ]
     },
     "execution_count": 101,
     "metadata": {},
     "output_type": "execute_result"
    }
   ],
   "source": [
    "x"
   ]
  },
  {
   "cell_type": "code",
   "execution_count": 102,
   "id": "e1efc6e4-43e2-4e74-8450-da3d98d9b9c5",
   "metadata": {},
   "outputs": [],
   "source": [
    "x = x.view(BATCH_SIZE, -1)"
   ]
  },
  {
   "cell_type": "code",
   "execution_count": 103,
   "id": "7536edf2-9fc6-414a-a6b8-0401e7492228",
   "metadata": {},
   "outputs": [
    {
     "data": {
      "text/plain": [
       "tensor([[-0.2065, -0.7045, -0.2065, -0.7045, -0.5793,  1.3076],\n",
       "        [-0.3547,  0.0642, -1.2751,  0.7274, -0.3547,  0.0642],\n",
       "        [-0.2065, -0.7045, -0.2065, -0.7045, -0.5793,  1.3076],\n",
       "        [-0.2065, -0.7045, -0.2065, -0.7045, -0.6918, -0.4708],\n",
       "        [-0.2065, -0.7045, -0.2065, -0.7045, -0.2065, -0.7045]],\n",
       "       grad_fn=<ViewBackward0>)"
      ]
     },
     "execution_count": 103,
     "metadata": {},
     "output_type": "execute_result"
    }
   ],
   "source": [
    "x"
   ]
  },
  {
   "cell_type": "code",
   "execution_count": 107,
   "id": "6c6cfbca-245a-42b5-854a-3097fae5ac14",
   "metadata": {},
   "outputs": [],
   "source": [
    "fc1 = nn.Linear(NGRAM_SIZE * EMBEDDING_DIM, HIDDEN_LAYER_SIZE)"
   ]
  },
  {
   "cell_type": "code",
   "execution_count": 108,
   "id": "c17dd9f6-48b9-42c2-9f76-0c47dad1caf8",
   "metadata": {},
   "outputs": [],
   "source": [
    "x = fc1(x)"
   ]
  },
  {
   "cell_type": "code",
   "execution_count": 112,
   "id": "832312b6-5596-4108-ba27-0ac3a7dc5fbf",
   "metadata": {},
   "outputs": [],
   "source": [
    "x = torch.tanh(x)"
   ]
  },
  {
   "cell_type": "code",
   "execution_count": 113,
   "id": "1d04d766-4256-40ac-9f1a-ff6543752767",
   "metadata": {},
   "outputs": [
    {
     "data": {
      "text/plain": [
       "torch.Size([5, 100])"
      ]
     },
     "execution_count": 113,
     "metadata": {},
     "output_type": "execute_result"
    }
   ],
   "source": [
    "x.shape"
   ]
  },
  {
   "cell_type": "code",
   "execution_count": 114,
   "id": "b91e532c-5854-429f-badd-f8bb08b2155f",
   "metadata": {},
   "outputs": [],
   "source": [
    "fc2 = nn.Linear(HIDDEN_LAYER_SIZE, len(letter_to_idx))"
   ]
  },
  {
   "cell_type": "code",
   "execution_count": 115,
   "id": "3c52fcee-48f5-4b2b-8651-06de52e7801b",
   "metadata": {},
   "outputs": [],
   "source": [
    "x = fc2(x)"
   ]
  },
  {
   "cell_type": "code",
   "execution_count": 116,
   "id": "686c9f07-6eaa-42a1-ae53-a00dfa7f9fa5",
   "metadata": {},
   "outputs": [],
   "source": [
    "loss = F.cross_entropy(x, y)"
   ]
  },
  {
   "cell_type": "code",
   "execution_count": 117,
   "id": "522a2bc6-3ce4-4c2c-a23a-3c82ba7ae093",
   "metadata": {
    "scrolled": true
   },
   "outputs": [
    {
     "data": {
      "text/plain": [
       "tensor(3.4442, grad_fn=<NllLossBackward0>)"
      ]
     },
     "execution_count": 117,
     "metadata": {},
     "output_type": "execute_result"
    }
   ],
   "source": [
    "loss"
   ]
  },
  {
   "cell_type": "code",
   "execution_count": 147,
   "id": "f36b310d-3b6d-4b65-aaf0-28c9760f02f4",
   "metadata": {},
   "outputs": [],
   "source": [
    "x, y = get_batch()"
   ]
  },
  {
   "cell_type": "code",
   "execution_count": 225,
   "id": "2953cb9c-d3a3-4296-b967-6a75e89057c4",
   "metadata": {},
   "outputs": [],
   "source": [
    "logits = model(x)"
   ]
  },
  {
   "cell_type": "code",
   "execution_count": 226,
   "id": "035d1063-43b1-4830-9522-6078a912b9a9",
   "metadata": {},
   "outputs": [
    {
     "data": {
      "text/plain": [
       "tensor(0.2481, grad_fn=<NllLossBackward0>)"
      ]
     },
     "execution_count": 226,
     "metadata": {},
     "output_type": "execute_result"
    }
   ],
   "source": [
    "loss = F.cross_entropy(logits, y)\n",
    "loss"
   ]
  },
  {
   "cell_type": "code",
   "execution_count": 227,
   "id": "f138bd43-5dcf-4af4-90e8-73aef19ce1af",
   "metadata": {},
   "outputs": [],
   "source": [
    "for p in model.parameters():\n",
    "    p.grad = None"
   ]
  },
  {
   "cell_type": "code",
   "execution_count": 228,
   "id": "b125b8c3-15d9-444f-94da-19eeea2e1fd3",
   "metadata": {},
   "outputs": [],
   "source": [
    "loss.backward()"
   ]
  },
  {
   "cell_type": "code",
   "execution_count": 229,
   "id": "b910c88a-9a66-4aef-8e79-d56910ed4af6",
   "metadata": {},
   "outputs": [],
   "source": [
    "lr = 0.1\n",
    "for p in model.parameters():\n",
    "    p.data -= lr * p.grad"
   ]
  },
  {
   "cell_type": "code",
   "execution_count": null,
   "id": "7bb253e6-2e75-45f9-8ac3-27019800e188",
   "metadata": {},
   "outputs": [],
   "source": []
  },
  {
   "cell_type": "code",
   "execution_count": null,
   "id": "0de58b5f-6262-4d07-808a-a6ec9d427e7e",
   "metadata": {},
   "outputs": [],
   "source": []
  }
 ],
 "metadata": {
  "kernelspec": {
   "display_name": "Python 3 (ipykernel)",
   "language": "python",
   "name": "python3"
  },
  "language_info": {
   "codemirror_mode": {
    "name": "ipython",
    "version": 3
   },
   "file_extension": ".py",
   "mimetype": "text/x-python",
   "name": "python",
   "nbconvert_exporter": "python",
   "pygments_lexer": "ipython3",
   "version": "3.12.3"
  }
 },
 "nbformat": 4,
 "nbformat_minor": 5
}
